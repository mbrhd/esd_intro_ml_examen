{
 "cells": [
  {
   "cell_type": "markdown",
   "metadata": {
    "lang": "fr"
   },
   "source": [
    "# Segmentation client avec le clustering K-Means\n",
    "\n",
    "La segmentation de la clientèle vous permet à une entreprise de personnaliser ses relations avec les clients, comme nous le faisons dans notre vie quotidienne.\n",
    "\n",
    "Ce Notebook permet de préparer les données pour extraire des informations utiles pour le ciblage client. L'idée principale sera d'appliquer à une base de données de clients de commerce électronique un algorithme de  clustering K-means grace à la librairie scikit-learn. L'objectif final est d'obtenir un regroupement de nos clients de le cadre du campagne Agile Marketing. \n",
    "\n",
    "Ces explorations permettent de répondre à plusieurs questions:\n",
    "\n",
    "**Cette base de données clients peut-elle être regroupée pour développer des relations personnalisées ?**\n",
    "\n",
    "**Pour répondre à cette question 3 fonctionnalités seront créées et utilisées :** <br>\n",
    "- produits commandés\n",
    "- taux de retour moyen\n",
    "- dépenses totales\n",
    "\n",
    "**L'ensemble de données représente les données réelles des clients et des commandes entre novembre 2018 et avril 2019 et il est pseudonymisé pour des raisons de confidentialité.**\n",
    "\n",
    "\n",
    "__NB: La partie clustring vous sera présentée après la fin de l'examen__\n",
    "\n",
    "\n",
    "## Questions:\n",
    "* [Q1](#Q1)\n",
    "* [Q2](#Q2)\n",
    "* [Q3](#Q3)\n",
    "* [Q4](#Q4)\n",
    "* [Q5](#Q5)\n",
    "* [Q6](#Q6)\n",
    "* [Q7](#Q7)\n",
    "* [Q8](#Q8)\n",
    "* [Q9](#Q9)\n",
    "* [Q10](#Q10)\n",
    "* [Q11](#Q11)\n",
    "* [Q12](#Q12)\n",
    "* [Q13](#Q13)"
   ]
  },
  {
   "cell_type": "markdown",
   "metadata": {},
   "source": [
    "## Import de librairies"
   ]
  },
  {
   "cell_type": "code",
   "execution_count": null,
   "metadata": {},
   "outputs": [],
   "source": [
    "# data wrangling\n",
    "import pandas as pd\n",
    "import numpy as np\n",
    "\n",
    "# visualization\n",
    "import matplotlib.pyplot as plt\n",
    "import plotly.express as px\n",
    "import plotly.graph_objects as go\n",
    "from plotly.subplots import make_subplots\n",
    "\n",
    "# for data preprocessing and clustering\n",
    "from sklearn.cluster import KMeans\n",
    "\n",
    "%matplotlib inline\n",
    "# to include graphs inline within the frontends next to code\n",
    "\n",
    "%config InlineBackend.figure_format='retina'\n",
    "#to enable retina (high resolution) plots\n",
    "\n",
    "pd.options.mode.chained_assignment = None\n",
    "# to bypass warnings in various dataframe assignments"
   ]
  },
  {
   "cell_type": "markdown",
   "metadata": {},
   "source": [
    "## Charger les données dans un dataframe nommé customers_orders"
   ]
  },
  {
   "cell_type": "markdown",
   "metadata": {},
   "source": [
    "__Q1 - Charger les données dans un dataframe nommé customers_roders__ <a class=\"anchor\" id=\"Q1\"></a>"
   ]
  },
  {
   "cell_type": "code",
   "execution_count": null,
   "metadata": {},
   "outputs": [],
   "source": [
    "# load data into a dataframe\n"
   ]
  },
  {
   "cell_type": "markdown",
   "metadata": {},
   "source": [
    "## Afficher les cinq premières lignes du fichier"
   ]
  },
  {
   "cell_type": "markdown",
   "metadata": {},
   "source": [
    "__Q2 - Afficher les cinq premières lignes du fichier__ <a class=\"anchor\" id=\"Q2\"></a>"
   ]
  },
  {
   "cell_type": "code",
   "execution_count": null,
   "metadata": {
    "scrolled": true
   },
   "outputs": [],
   "source": [
    "# first rows of the dataset\n"
   ]
  },
  {
   "cell_type": "markdown",
   "metadata": {},
   "source": [
    "## Afficher les informations (infos) relative au dataframe"
   ]
  },
  {
   "cell_type": "markdown",
   "metadata": {},
   "source": [
    "__Q3 - Afficher les informations (infos) relative au dataframe__ <a class=\"anchor\" id=\"Q3\"></a>"
   ]
  },
  {
   "cell_type": "code",
   "execution_count": null,
   "metadata": {},
   "outputs": [],
   "source": [
    "# first glance of customers_orders data\n"
   ]
  },
  {
   "cell_type": "markdown",
   "metadata": {},
   "source": [
    "__Q3.a - Combien de colonnes sont de type `object` ?__\n",
    "\n",
    "Merci de répondre dans la cellule ci-dessous"
   ]
  },
  {
   "cell_type": "markdown",
   "metadata": {},
   "source": [
    "--------\n",
    "Réponse:\n",
    "\n",
    "_Ma réponse_\n",
    "\n",
    "--------"
   ]
  },
  {
   "cell_type": "markdown",
   "metadata": {},
   "source": [
    "## Affichez la liste complète des colonnes du dataframe"
   ]
  },
  {
   "cell_type": "markdown",
   "metadata": {},
   "source": [
    "__Q4 - Affichez la liste complète des colonnes du dataframe__ <a class=\"anchor\" id=\"Q4\"></a>"
   ]
  },
  {
   "cell_type": "code",
   "execution_count": null,
   "metadata": {},
   "outputs": [],
   "source": []
  },
  {
   "cell_type": "markdown",
   "metadata": {},
   "source": [
    "## Investigation du résumé statistique (summary) des données du dataframe"
   ]
  },
  {
   "cell_type": "markdown",
   "metadata": {},
   "source": [
    "#### Q5.a - Affichez le résumé statistique du dataframe (summary) <a class=\"anchor\" id=\"Q5\"></a>"
   ]
  },
  {
   "cell_type": "code",
   "execution_count": null,
   "metadata": {},
   "outputs": [],
   "source": [
    "# descriptive statistics of the non-object columns\n"
   ]
  },
  {
   "cell_type": "markdown",
   "metadata": {},
   "source": [
    "Il y a un nombre important de lignes dont `ordered_item_quantity` est 0 et `net_quantity` est inférieur à 0, ce qui signifie qu'elles ne sont pas du tout commandées/vendues ; mais le fait qu'ils aient des retours nécessite une petite investigation."
   ]
  },
  {
   "cell_type": "markdown",
   "metadata": {},
   "source": [
    "#### Q5.b - Calculez le nombre de lignes avec une valeur de `net quantity` négative  "
   ]
  },
  {
   "cell_type": "code",
   "execution_count": null,
   "metadata": {},
   "outputs": [],
   "source": [
    "print(\"Number of rows that net quantity is negative:\", ###)"
   ]
  },
  {
   "cell_type": "markdown",
   "metadata": {},
   "source": [
    "#### Q5.c - Supprimer les lignes avec une valeur de `net quantity` négative"
   ]
  },
  {
   "cell_type": "code",
   "execution_count": null,
   "metadata": {},
   "outputs": [],
   "source": [
    "# exclude not sold/ordered SKUs from the dataset\n"
   ]
  },
  {
   "cell_type": "markdown",
   "metadata": {
    "lang": "fr"
   },
   "source": [
    "# 1. Produits commandés\n",
    "Le nombre de produits commandés dans la colonne product_type par un client. <br>"
   ]
  },
  {
   "cell_type": "markdown",
   "metadata": {
    "lang": "en"
   },
   "source": [
    "## 1. Products ordered\n",
    "It is the count of the products ordered in product_type column by a customer. <br>"
   ]
  },
  {
   "cell_type": "markdown",
   "metadata": {},
   "source": [
    "**Ci-dessous des fonctions permettant pour identifier les clients qui commandent plusieurs produits**"
   ]
  },
  {
   "cell_type": "code",
   "execution_count": null,
   "metadata": {},
   "outputs": [],
   "source": [
    "def encode_column(column):\n",
    "    if column > 0:\n",
    "        return 1\n",
    "    if column <= 0:\n",
    "        return 0\n",
    "\n",
    "\n",
    "def aggregate_by_ordered_quantity(dataframe, column_list):\n",
    "    '''this function:\n",
    "    1. aggregates a given dataframe by column list, \n",
    "    as a result creates a aggregated dataframe by counting the ordered item quantities\n",
    "\n",
    "    2. adds number_of_X ordered where X is the second element in the column_list \n",
    "    to the aggregated dataframe by encoding ordered items into 1\n",
    "\n",
    "    3. creates final dataframe containing information about \n",
    "    how many of X are ordered, based on the first element passed in the column list'''\n",
    "\n",
    "    aggregated_dataframe = (dataframe\n",
    "                            .groupby(column_list)\n",
    "                            .ordered_item_quantity.count()\n",
    "                            .reset_index())\n",
    "\n",
    "    aggregated_dataframe[\"products_ordered\"] = (aggregated_dataframe\n",
    "                                                 .ordered_item_quantity\n",
    "                                                 .apply(encode_column))\n",
    "\n",
    "    final_dataframe = (aggregated_dataframe\n",
    "                       .groupby(column_list[0])\n",
    "                       .products_ordered.sum() # aligned with the added column name\n",
    "                       .reset_index())\n",
    "\n",
    "    return final_dataframe"
   ]
  },
  {
   "cell_type": "code",
   "execution_count": null,
   "metadata": {},
   "outputs": [],
   "source": [
    "# apply functions to customers_orders\n",
    "customers = aggregate_by_ordered_quantity(customers_orders, [\"customer_id\", \"product_type\"])"
   ]
  },
  {
   "cell_type": "markdown",
   "metadata": {},
   "source": [
    "__Q6 - Afficher les cinq première lignes du dataframe customers__ <a class=\"anchor\" id=\"Q6\"></a>"
   ]
  },
  {
   "cell_type": "code",
   "execution_count": null,
   "metadata": {},
   "outputs": [],
   "source": []
  },
  {
   "cell_type": "markdown",
   "metadata": {},
   "source": [
    "# 2. Average Return Rate\n",
    "C'est le rapport entre la quantité d'articles retournés et la quantité d'articles commandés. Ce ratio est d'abord calculé par commande puis moyenné pour toutes les commandes d'un client."
   ]
  },
  {
   "cell_type": "code",
   "execution_count": null,
   "metadata": {},
   "outputs": [],
   "source": [
    "# aggregate data per customer_id and order_id, \n",
    "# to see ordered item sum and returned item sum\n",
    "ordered_sum_by_customer_order = (customers_orders\n",
    "                                 .groupby([\"customer_id\", \"order_id\"])\n",
    "                                 .ordered_item_quantity.sum()\n",
    "                                 .reset_index())\n",
    "\n",
    "returned_sum_by_customer_order = (customers_orders\n",
    "                                  .groupby([\"customer_id\", \"order_id\"])\n",
    "                                  .returned_item_quantity.sum()\n",
    "                                  .reset_index())\n",
    "\n",
    "# merge two dataframes to be able to calculate unit return rate\n",
    "ordered_returned_sums = pd.merge(ordered_sum_by_customer_order, returned_sum_by_customer_order)"
   ]
  },
  {
   "cell_type": "code",
   "execution_count": null,
   "metadata": {},
   "outputs": [],
   "source": [
    "# calculate unit return rate per order and customer\n",
    "ordered_returned_sums[\"average_return_rate\"] = (-1 * \n",
    "                                             ordered_returned_sums[\"returned_item_quantity\"] /\n",
    "                                             ordered_returned_sums[\"ordered_item_quantity\"])"
   ]
  },
  {
   "cell_type": "markdown",
   "metadata": {},
   "source": [
    "__Q7 - Afficher les cinq dernières lignes du dataframe customers__ <a class=\"anchor\" id=\"Q7\"></a>"
   ]
  },
  {
   "cell_type": "code",
   "execution_count": null,
   "metadata": {},
   "outputs": [],
   "source": []
  },
  {
   "cell_type": "code",
   "execution_count": null,
   "metadata": {},
   "outputs": [],
   "source": [
    "# take average of the unit return rate for all orders of a customer\n",
    "customer_return_rate = (ordered_returned_sums\n",
    "                        .groupby(\"customer_id\")\n",
    "                        .average_return_rate\n",
    "                        .mean()\n",
    "                        .reset_index())"
   ]
  },
  {
   "cell_type": "code",
   "execution_count": null,
   "metadata": {},
   "outputs": [],
   "source": [
    "return_rates = pd.DataFrame(customer_return_rate[\"average_return_rate\"]\n",
    "                            .value_counts()\n",
    "                            .reset_index())\n",
    "\n",
    "return_rates.rename(columns=\n",
    "                    {\"index\": \"average return rate\",\n",
    "                     \"average_return_rate\": \"count of unit return rate\"},\n",
    "                    inplace=True)"
   ]
  },
  {
   "cell_type": "markdown",
   "metadata": {},
   "source": [
    "__Q8 - Afficher les return_rates du plus grand `average return rate` au plus petit__ <a class=\"anchor\" id=\"Q8\"></a>"
   ]
  },
  {
   "cell_type": "code",
   "execution_count": null,
   "metadata": {},
   "outputs": [],
   "source": []
  },
  {
   "cell_type": "code",
   "execution_count": null,
   "metadata": {},
   "outputs": [],
   "source": [
    "# add average_return_rate to customers dataframe\n",
    "customers = pd.merge(customers,\n",
    "                     customer_return_rate,\n",
    "                     on=\"customer_id\")"
   ]
  },
  {
   "cell_type": "markdown",
   "metadata": {},
   "source": [
    "# 3. Total spending\n",
    "Total spending is the aggregated sum of total sales value which is the amount after the taxes and returns."
   ]
  },
  {
   "cell_type": "code",
   "execution_count": null,
   "metadata": {},
   "outputs": [],
   "source": [
    "# aggreagate total sales per customer id\n",
    "customer_total_spending = (customers_orders\n",
    "                           .groupby(\"customer_id\")\n",
    "                           .total_sales\n",
    "                           .sum()\n",
    "                           .reset_index())"
   ]
  },
  {
   "cell_type": "markdown",
   "metadata": {},
   "source": [
    "__Q9 - Renommer la colonne `total_sales` par `total_spending` dans le dataframe customer_total_spending__ <a class=\"anchor\" id=\"Q9\"></a>"
   ]
  },
  {
   "cell_type": "code",
   "execution_count": null,
   "metadata": {},
   "outputs": [],
   "source": []
  },
  {
   "cell_type": "markdown",
   "metadata": {},
   "source": [
    "## Create features data frame"
   ]
  },
  {
   "cell_type": "code",
   "execution_count": null,
   "metadata": {},
   "outputs": [],
   "source": [
    "# add total sales to customers dataframe\n",
    "customers = customers.merge(customer_total_spending, \n",
    "                            on=\"customer_id\")"
   ]
  },
  {
   "cell_type": "markdown",
   "metadata": {},
   "source": [
    "__Q10 - Quel est le nombre de clients total__ <a class=\"anchor\" id=\"Q10\"></a>"
   ]
  },
  {
   "cell_type": "code",
   "execution_count": 1,
   "metadata": {},
   "outputs": [
    {
     "ename": "SyntaxError",
     "evalue": "unexpected EOF while parsing (1240406984.py, line 1)",
     "output_type": "error",
     "traceback": [
      "\u001b[0;36m  File \u001b[0;32m\"/var/folders/j1/0hx__64j5t58rk223mp2c35w0000gn/T/ipykernel_92578/1240406984.py\"\u001b[0;36m, line \u001b[0;32m1\u001b[0m\n\u001b[0;31m    print(\"The number of customers from the existing customer base:\", ####)\u001b[0m\n\u001b[0m                                                                           ^\u001b[0m\n\u001b[0;31mSyntaxError\u001b[0m\u001b[0;31m:\u001b[0m unexpected EOF while parsing\n"
     ]
    }
   ],
   "source": [
    "print(\"The number of customers from the existing customer base:\", ####)"
   ]
  },
  {
   "cell_type": "markdown",
   "metadata": {},
   "source": [
    "__Q11 - Supprimer la colonne `custoner_id` du dataframe__ <a class=\"anchor\" id=\"Q11\"></a>"
   ]
  },
  {
   "cell_type": "code",
   "execution_count": 2,
   "metadata": {},
   "outputs": [],
   "source": [
    "# drop id column since it is not a feature\n"
   ]
  },
  {
   "cell_type": "code",
   "execution_count": null,
   "metadata": {},
   "outputs": [],
   "source": [
    "customers.head()"
   ]
  },
  {
   "cell_type": "markdown",
   "metadata": {},
   "source": [
    "### Visualize features"
   ]
  },
  {
   "cell_type": "code",
   "execution_count": null,
   "metadata": {},
   "outputs": [],
   "source": [
    "fig = make_subplots(rows=3, cols=1,\n",
    "                   subplot_titles=(\"Products Ordered\", \n",
    "                                   \"Average Return Rate\", \n",
    "                                   \"Total Spending\"))\n",
    "\n",
    "fig.append_trace(go.Histogram(x=customers.products_ordered),\n",
    "                 row=1, col=1)\n",
    "\n",
    "fig.append_trace(go.Histogram(x=customers.average_return_rate),\n",
    "                 row=2, col=1)\n",
    "\n",
    "fig.append_trace(go.Histogram(x=customers.total_spending),\n",
    "                 row=3, col=1)\n",
    "\n",
    "fig.update_layout(height=800, width=800,\n",
    "                  title_text=\"Distribution of the Features\")\n",
    "\n",
    "fig.show()"
   ]
  },
  {
   "cell_type": "markdown",
   "metadata": {},
   "source": [
    "## Scale Features: Log Transformation"
   ]
  },
  {
   "cell_type": "code",
   "execution_count": null,
   "metadata": {},
   "outputs": [],
   "source": [
    "def apply_log1p_transformation(dataframe, column):\n",
    "    '''This function takes a dataframe and a column in the string format\n",
    "    then applies numpy log1p transformation to the column\n",
    "    as a result returns log1p applied pandas series'''\n",
    "    \n",
    "    dataframe[\"log_\" + column] = np.log1p(dataframe[column])\n",
    "    return dataframe[\"log_\" + column]"
   ]
  },
  {
   "cell_type": "markdown",
   "metadata": {},
   "source": [
    "### 1. Products ordered"
   ]
  },
  {
   "cell_type": "code",
   "execution_count": null,
   "metadata": {},
   "outputs": [],
   "source": [
    "apply_log1p_transformation(customers, \"products_ordered\")"
   ]
  },
  {
   "cell_type": "markdown",
   "metadata": {},
   "source": [
    "### 2. Average return rate"
   ]
  },
  {
   "cell_type": "code",
   "execution_count": null,
   "metadata": {},
   "outputs": [],
   "source": [
    "apply_log1p_transformation(customers, \"average_return_rate\")"
   ]
  },
  {
   "cell_type": "markdown",
   "metadata": {},
   "source": [
    "### 3. Total spending"
   ]
  },
  {
   "cell_type": "code",
   "execution_count": null,
   "metadata": {},
   "outputs": [],
   "source": [
    "apply_log1p_transformation(customers, \"total_spending\")"
   ]
  },
  {
   "cell_type": "markdown",
   "metadata": {},
   "source": [
    "### Visualize log transformation applied features"
   ]
  },
  {
   "cell_type": "code",
   "execution_count": null,
   "metadata": {},
   "outputs": [],
   "source": [
    "fig = make_subplots(rows=3, cols=1,\n",
    "                   subplot_titles=(\"Products Ordered\", \n",
    "                                   \"Average Return Rate\", \n",
    "                                   \"Total Spending\"))\n",
    "\n",
    "fig.append_trace(go.Histogram(x=customers.log_products_ordered),\n",
    "                 row=1, col=1)\n",
    "\n",
    "fig.append_trace(go.Histogram(x=customers.log_average_return_rate),\n",
    "                 row=2, col=1)\n",
    "\n",
    "fig.append_trace(go.Histogram(x=customers.log_total_spending),\n",
    "                 row=3, col=1)\n",
    "\n",
    "fig.update_layout(height=800, width=800,\n",
    "                  title_text=\"Distribution of the Features after Logarithm Transformation\")\n",
    "\n",
    "fig.show()"
   ]
  },
  {
   "cell_type": "code",
   "execution_count": null,
   "metadata": {},
   "outputs": [],
   "source": [
    "customers.head()"
   ]
  },
  {
   "cell_type": "markdown",
   "metadata": {},
   "source": [
    "__Q12 - Afficher uniquement les colonnes du dataframe contenant `log`__ <a class=\"anchor\" id=\"Q12\"></a>"
   ]
  },
  {
   "cell_type": "code",
   "execution_count": null,
   "metadata": {},
   "outputs": [],
   "source": [
    "# features we are going to use as an input to the model\n"
   ]
  },
  {
   "cell_type": "markdown",
   "metadata": {},
   "source": [
    "## Create K-means model"
   ]
  },
  {
   "cell_type": "code",
   "execution_count": null,
   "metadata": {},
   "outputs": [],
   "source": [
    "# create initial K-means model\n",
    "kmeans_model = KMeans(init='k-means++', \n",
    "                      max_iter=500, \n",
    "                      random_state=42)"
   ]
  },
  {
   "cell_type": "code",
   "execution_count": null,
   "metadata": {},
   "outputs": [],
   "source": [
    "kmeans_model.fit(customers.iloc[:,3:])\n",
    "\n",
    "# print the sum of distances from all examples to the center of the cluster\n",
    "print(\"within-cluster sum-of-squares (inertia) of the model is:\", kmeans_model.inertia_)"
   ]
  },
  {
   "cell_type": "markdown",
   "metadata": {},
   "source": [
    "## Hyperparameter tuning: Find optimal number of clusters"
   ]
  },
  {
   "cell_type": "code",
   "execution_count": null,
   "metadata": {},
   "outputs": [],
   "source": [
    "def make_list_of_K(K, dataframe):\n",
    "    '''inputs: K as integer and dataframe\n",
    "    apply k-means clustering to dataframe\n",
    "    and make a list of inertia values against 1 to K (inclusive)\n",
    "    return the inertia values list\n",
    "    '''\n",
    "    \n",
    "    cluster_values = list(range(1, K+1))\n",
    "    inertia_values=[]\n",
    "    \n",
    "    for c in cluster_values:\n",
    "        model = KMeans(\n",
    "            n_clusters = c, \n",
    "            init='k-means++', \n",
    "            max_iter=500, \n",
    "            random_state=42)\n",
    "        model.fit(dataframe)\n",
    "        inertia_values.append(model.inertia_)\n",
    "    \n",
    "    return inertia_values"
   ]
  },
  {
   "cell_type": "markdown",
   "metadata": {},
   "source": [
    "### Visualize different K and models"
   ]
  },
  {
   "cell_type": "code",
   "execution_count": null,
   "metadata": {},
   "outputs": [],
   "source": [
    "# save inertia values in a dataframe for k values between 1 to 15 \n",
    "results = make_list_of_K(15, customers.iloc[:, 3:])\n",
    "\n",
    "k_values_distances = pd.DataFrame({\"clusters\": list(range(1, 16)),\n",
    "                                   \"within cluster sum of squared distances\": results})"
   ]
  },
  {
   "cell_type": "code",
   "execution_count": null,
   "metadata": {},
   "outputs": [],
   "source": [
    "# visualization for the selection of number of segments\n",
    "fig = go.Figure()\n",
    "\n",
    "fig.add_trace(go.Scatter(x=k_values_distances[\"clusters\"], \n",
    "                         y=k_values_distances[\"within cluster sum of squared distances\"],\n",
    "                         mode='lines+markers'))\n",
    "\n",
    "fig.update_layout(xaxis = dict(\n",
    "        tickmode = 'linear',\n",
    "        tick0 = 1,\n",
    "        dtick = 1),\n",
    "                  title_text=\"Within Cluster Sum of Squared Distances VS K Values\",\n",
    "                  xaxis_title=\"K values\",\n",
    "                  yaxis_title=\"Cluster sum of squared distances\")\n",
    "\n",
    "fig.show()"
   ]
  },
  {
   "cell_type": "markdown",
   "metadata": {},
   "source": [
    "## Update K-Means Clustering"
   ]
  },
  {
   "cell_type": "code",
   "execution_count": null,
   "metadata": {},
   "outputs": [],
   "source": [
    "# create clustering model with optimal k=4\n",
    "updated_kmeans_model = KMeans(n_clusters = 4, \n",
    "                              init='k-means++', \n",
    "                              max_iter=500, \n",
    "                              random_state=42)\n",
    "\n",
    "updated_kmeans_model.fit_predict(customers.iloc[:,3:])"
   ]
  },
  {
   "cell_type": "markdown",
   "metadata": {},
   "source": [
    "### Add cluster centers to the visualization"
   ]
  },
  {
   "cell_type": "code",
   "execution_count": null,
   "metadata": {},
   "outputs": [],
   "source": [
    "# create cluster centers and actual data arrays\n",
    "cluster_centers = updated_kmeans_model.cluster_centers_\n",
    "actual_data = np.expm1(cluster_centers)\n",
    "add_points = np.append(actual_data, cluster_centers, axis=1)\n",
    "add_points"
   ]
  },
  {
   "cell_type": "code",
   "execution_count": null,
   "metadata": {},
   "outputs": [],
   "source": [
    "# add labels to customers dataframe and add_points array\n",
    "add_points = np.append(add_points, [[0], [1], [2], [3]], axis=1)\n",
    "customers[\"clusters\"] = updated_kmeans_model.labels_"
   ]
  },
  {
   "cell_type": "code",
   "execution_count": null,
   "metadata": {},
   "outputs": [],
   "source": [
    "# create centers dataframe from add_points\n",
    "centers_df = pd.DataFrame(data=add_points, columns=[\"products_ordered\",\n",
    "                                                    \"average_return_rate\",\n",
    "                                                    \"total_spending\",\n",
    "                                                    \"log_products_ordered\",\n",
    "                                                    \"log_average_return_rate\",\n",
    "                                                    \"log_total_spending\",\n",
    "                                                    \"clusters\"])\n",
    "centers_df.head()"
   ]
  },
  {
   "cell_type": "code",
   "execution_count": null,
   "metadata": {},
   "outputs": [],
   "source": [
    "# align cluster centers of centers_df and customers\n",
    "centers_df[\"clusters\"] = centers_df[\"clusters\"].astype(\"int\")"
   ]
  },
  {
   "cell_type": "code",
   "execution_count": null,
   "metadata": {},
   "outputs": [],
   "source": [
    "centers_df.head()"
   ]
  },
  {
   "cell_type": "code",
   "execution_count": null,
   "metadata": {},
   "outputs": [],
   "source": [
    "customers.head()"
   ]
  },
  {
   "cell_type": "code",
   "execution_count": null,
   "metadata": {},
   "outputs": [],
   "source": [
    "# differentiate between data points and cluster centers\n",
    "customers[\"is_center\"] = 0\n",
    "centers_df[\"is_center\"] = 1\n",
    "\n",
    "# add dataframes together\n",
    "customers = customers.append(centers_df, ignore_index=True)"
   ]
  },
  {
   "cell_type": "code",
   "execution_count": null,
   "metadata": {},
   "outputs": [],
   "source": [
    "customers.tail()"
   ]
  },
  {
   "cell_type": "markdown",
   "metadata": {},
   "source": [
    "### Visualize Customer Segmentation"
   ]
  },
  {
   "cell_type": "markdown",
   "metadata": {},
   "source": [
    "__Q13 - Créer une colonne appelée `cluster_name` dont les valeurs sont la transformation des valeurs dans la colonne `clusters` en string__ <a class=\"anchor\" id=\"Q13\"></a>\n",
    "\n",
    "*hint: astype, dtype, dtypes*"
   ]
  },
  {
   "cell_type": "code",
   "execution_count": null,
   "metadata": {},
   "outputs": [],
   "source": [
    "# add clusters to the dataframe\n"
   ]
  },
  {
   "cell_type": "code",
   "execution_count": null,
   "metadata": {},
   "outputs": [],
   "source": [
    "# visualize log_transformation customer segments with a 3D plot\n",
    "fig = px.scatter_3d(customers,\n",
    "                    x=\"log_products_ordered\",\n",
    "                    y=\"log_average_return_rate\",\n",
    "                    z=\"log_total_spending\",\n",
    "                    color='cluster_name',\n",
    "                    hover_data=[\"products_ordered\",\n",
    "                                \"average_return_rate\",\n",
    "                                \"total_spending\"],\n",
    "                    category_orders = {\"cluster_name\": \n",
    "                                       [\"0\", \"1\", \"2\", \"3\"]},\n",
    "                    symbol = \"is_center\"\n",
    "                    )\n",
    "\n",
    "fig.update_layout(margin=dict(l=0, r=0, b=0, t=0))\n",
    "fig.show()"
   ]
  },
  {
   "cell_type": "markdown",
   "metadata": {},
   "source": [
    "## Check for Cluster Magnitude"
   ]
  },
  {
   "cell_type": "code",
   "execution_count": null,
   "metadata": {},
   "outputs": [],
   "source": [
    "# values for log_transformation\n",
    "cardinality_df = pd.DataFrame(\n",
    "    customers.cluster_name.value_counts().reset_index())\n",
    "\n",
    "cardinality_df.rename(columns={\"index\": \"Customer Groups\",\n",
    "                               \"cluster_name\": \"Customer Group Magnitude\"},\n",
    "                      inplace=True)"
   ]
  },
  {
   "cell_type": "code",
   "execution_count": null,
   "metadata": {},
   "outputs": [],
   "source": [
    "cardinality_df"
   ]
  },
  {
   "cell_type": "code",
   "execution_count": null,
   "metadata": {},
   "outputs": [],
   "source": [
    "fig = px.bar(cardinality_df, x=\"Customer Groups\", \n",
    "             y=\"Customer Group Magnitude\",\n",
    "             color = \"Customer Groups\",\n",
    "             category_orders = {\"Customer Groups\": [\"0\", \"1\", \"2\", \"3\"]})\n",
    "\n",
    "fig.update_layout(xaxis = dict(\n",
    "        tickmode = 'linear',\n",
    "        tick0 = 1,\n",
    "        dtick = 1),\n",
    "                 yaxis = dict(\n",
    "        tickmode = 'linear',\n",
    "        tick0 = 1000,\n",
    "        dtick = 1000))\n",
    "\n",
    "fig.show()"
   ]
  },
  {
   "cell_type": "code",
   "execution_count": null,
   "metadata": {},
   "outputs": [],
   "source": []
  }
 ],
 "metadata": {
  "kernelspec": {
   "display_name": "Python 3 (ipykernel)",
   "language": "python",
   "name": "python3"
  },
  "language_info": {
   "codemirror_mode": {
    "name": "ipython",
    "version": 3
   },
   "file_extension": ".py",
   "mimetype": "text/x-python",
   "name": "python",
   "nbconvert_exporter": "python",
   "pygments_lexer": "ipython3",
   "version": "3.8.12"
  },
  "latex_envs": {
   "LaTeX_envs_menu_present": true,
   "autoclose": false,
   "autocomplete": true,
   "bibliofile": "biblio.bib",
   "cite_by": "apalike",
   "current_citInitial": 1,
   "eqLabelWithNumbers": true,
   "eqNumInitial": 1,
   "hotkeys": {
    "equation": "Ctrl-E",
    "itemize": "Ctrl-I"
   },
   "labels_anchors": false,
   "latex_user_defs": false,
   "report_style_numbering": false,
   "user_envs_cfg": false
  },
  "nbTranslate": {
   "displayLangs": [
    "*"
   ],
   "hotkey": "alt-t",
   "langInMainMenu": true,
   "sourceLang": "en",
   "targetLang": "fr",
   "useGoogleTranslate": true
  },
  "toc": {
   "base_numbering": 1,
   "nav_menu": {},
   "number_sections": true,
   "sideBar": true,
   "skip_h1_title": false,
   "title_cell": "Table of Contents",
   "title_sidebar": "Contents",
   "toc_cell": false,
   "toc_position": {},
   "toc_section_display": true,
   "toc_window_display": true
  },
  "varInspector": {
   "cols": {
    "lenName": 16,
    "lenType": 16,
    "lenVar": 40
   },
   "kernels_config": {
    "python": {
     "delete_cmd_postfix": "",
     "delete_cmd_prefix": "del ",
     "library": "var_list.py",
     "varRefreshCmd": "print(var_dic_list())"
    },
    "r": {
     "delete_cmd_postfix": ") ",
     "delete_cmd_prefix": "rm(",
     "library": "var_list.r",
     "varRefreshCmd": "cat(var_dic_list()) "
    }
   },
   "oldHeight": 443.844,
   "position": {
    "height": "40px",
    "left": "722px",
    "right": "20px",
    "top": "145px",
    "width": "564px"
   },
   "types_to_exclude": [
    "module",
    "function",
    "builtin_function_or_method",
    "instance",
    "_Feature"
   ],
   "varInspector_section_display": "none",
   "window_display": false
  }
 },
 "nbformat": 4,
 "nbformat_minor": 4
}
